{
 "cells": [
  {
   "cell_type": "code",
   "execution_count": null,
   "metadata": {
    "colab": {
     "base_uri": "https://localhost:8080/"
    },
    "id": "_Z-y7cyQQrtO",
    "outputId": "7adfe026-5288-45b5-dead-ac69edca6f73"
   },
   "outputs": [],
   "source": [
    "pip install deepface"
   ]
  },
  {
   "cell_type": "code",
   "execution_count": null,
   "metadata": {
    "id": "papRQbjsWj1k"
   },
   "outputs": [],
   "source": [
    "from deepface import DeepFace\n",
    "import cv2\n",
    "import matplotlib.pyplot as plt\n",
    "import time\n",
    "from datetime import date\n",
    "from datetime import datetime\n",
    "from IPython.display import Image, display\n"
   ]
  },
  {
   "cell_type": "code",
   "execution_count": null,
   "metadata": {
    "colab": {
     "base_uri": "https://localhost:8080/",
     "height": 1000
    },
    "id": "tAI-hM9cRM5m",
    "outputId": "0b64b337-3650-486c-cbd2-67a35dd6d143"
   },
   "outputs": [],
   "source": [
    "images= [\"img09.jpg\",\"img10.jpg\",\"img11.jpg\",\"img12.jpg\",\"img13.jpg\",\"img20.jpg\",\"img21.jpg\",\"img22.jpg\",\"img23.jpg\",\"img26.jpg\",\"img27.jpg\",\"img28.jpg\",\"img29.jpg\"]\n",
    "\n",
    "for image in images:\n",
    "    display(Image(filename=image)) "
   ]
  },
  {
   "cell_type": "code",
   "execution_count": null,
   "metadata": {
    "id": "Me5rScqzROWc"
   },
   "outputs": [],
   "source": [
    "def verify(img1_path, img2_path, model_name, detector_backend):\n",
    "    img1= cv2.imread(img1_path)\n",
    "    img2= cv2.imread(img2_path)\n",
    "    \n",
    "    #plt.imshow(img1[:,:,::-1])\n",
    "    #plt.show()\n",
    "    #plt.imshow(img2[:,:,::-1])\n",
    "    #plt.show()\n",
    "    output = DeepFace.verify(img1_path, img2_path, model_name, detector_backend=detector_backend)\n",
    "    return output"
   ]
  },
  {
   "cell_type": "code",
   "execution_count": null,
   "metadata": {
    "id": "Z7GyjCgURU_C"
   },
   "outputs": [],
   "source": [
    "image = \"img11.jpg\"\n",
    "images= [\"img09.jpg\",\"img10.jpg\",\"img12.jpg\",\"img13.jpg\",\"img20.jpg\",\"img21.jpg\",\"img22.jpg\",\"img23.jpg\",\"img26.jpg\",\"img27.jpg\",\"img28.jpg\"]\n",
    "models = [\"VGG-Face\", \"Facenet\", \"OpenFace\", \"DeepFace\", \"DeepID\", \"ArcFace\"]\n",
    "detector_backends =  [\"retinaface\", \"mtcnn\", \"opencv\", \"ssd\"]"
   ]
  },
  {
   "cell_type": "code",
   "execution_count": null,
   "metadata": {
    "id": "55prKMVNTmTQ"
   },
   "outputs": [],
   "source": [
    "def form_matrix(image, imageset, models, detector_backends):\n",
    "    f = open(\"data.txt\", \"w\")\n",
    "    f.write(\"Main Image\\tImage to compare\\tmodel\\tdetector_backend\\tTime elapsed\\toutput\\n\")\n",
    "    for model in models:\n",
    "        for detector_backend in detector_backends:\n",
    "            for image_from_set in imageset:\n",
    "                print(\"processing ...... image  : \", image_from_set)\n",
    "                try:\n",
    "                    start = datetime.now()\n",
    "                    op = verify(image,  image_from_set, model, detector_backend)\n",
    "                    done = datetime.now()\n",
    "                    elapsed = done - start\n",
    "                    f.write(image+\"\\t\"+image_from_set+\"\\t\"+model+\"\\t\"+detector_backend+\"\\t\"+str(elapsed)+\"\\t\"+str(op[\"verified\"])+\"\\n\")\n",
    "                except:\n",
    "                    print(\"error for image \", detector_backend)\n",
    "                    pass\n",
    "    f.close()\n",
    "    print(\"processing completed \")"
   ]
  },
  {
   "cell_type": "code",
   "execution_count": null,
   "metadata": {
    "id": "w09lfJIBTvZq"
   },
   "outputs": [],
   "source": [
    "image = \"img29.jpg\"\n",
    "imageset = [\"img11.jpg\"]\n",
    "models = [\"VGG-Face\", \"Facenet\", \"OpenFace\", \"DeepFace\", \"DeepID\", \"ArcFace\"]\n",
    "detector_backends =  [\"retinaface\", \"mtcnn\", \"opencv\", \"ssd\"]"
   ]
  },
  {
   "cell_type": "code",
   "execution_count": null,
   "metadata": {
    "colab": {
     "base_uri": "https://localhost:8080/"
    },
    "id": "i52qdaZQTz1k",
    "outputId": "ec4ad647-99c1-4eda-dcf0-41a3456e2e76"
   },
   "outputs": [],
   "source": [
    "form_matrix(image, imageset, models, detector_backends)"
   ]
  },
  {
   "cell_type": "code",
   "execution_count": null,
   "metadata": {
    "colab": {
     "base_uri": "https://localhost:8080/"
    },
    "id": "ytMXVJeZVHc-",
    "outputId": "0534a86e-8259-4067-a23b-0ca6b42e773f"
   },
   "outputs": [],
   "source": [
    "\n",
    "print(\"================================ With VGG-Face Model ===============================================\")\n",
    "start = datetime.now()\n",
    "print(verify(\"img11.jpg\", \"img13.jpg\", \"VGG-Face\", \"opencv\"))\n",
    "print(verify(\"img11.jpg\", \"img13.jpg\", \"VGG-Face\", \"retinaface\"))\n",
    "print(verify(\"img11.jpg\", \"img13.jpg\", \"VGG-Face\", \"mtcnn\"))\n",
    "print(verify(\"img11.jpg\", \"img13.jpg\", \"VGG-Face\", \"ssd\"))\n",
    "done = datetime.now()\n",
    "elapsed = done - start\n",
    "print(\"Time taken : \", elapsed.total_seconds())\n"
   ]
  },
  {
   "cell_type": "code",
   "execution_count": null,
   "metadata": {
    "colab": {
     "base_uri": "https://localhost:8080/"
    },
    "id": "dgeRz7Z-XFj7",
    "outputId": "5d1cb89f-f422-492f-cf97-1e263eda823a"
   },
   "outputs": [],
   "source": [
    "print(\"================================ With Facenet Model ===============================================\")\n",
    "start = datetime.now()\n",
    "print(verify(\"img11.jpg\", \"img13.jpg\", \"Facenet\", \"opencv\"))\n",
    "print(verify(\"img11.jpg\", \"img13.jpg\", \"Facenet\", \"retinaface\"))\n",
    "print(verify(\"img11.jpg\", \"img13.jpg\", \"Facenet\", \"mtcnn\"))\n",
    "print(verify(\"img11.jpg\", \"img13.jpg\", \"Facenet\", \"ssd\"))\n",
    "done = datetime.now()\n",
    "elapsed = done - start\n",
    "print(\"Time taken : \", elapsed.total_seconds())"
   ]
  },
  {
   "cell_type": "code",
   "execution_count": null,
   "metadata": {
    "colab": {
     "base_uri": "https://localhost:8080/"
    },
    "id": "l7n2wgo2YpKl",
    "outputId": "109de4a3-7652-4233-e433-40c84f2a68b0"
   },
   "outputs": [],
   "source": [
    "print(\"================================ With OpenFace Model ===============================================\")\n",
    "start = datetime.now()\n",
    "print(verify(\"img11.jpg\", \"img13.jpg\", \"OpenFace\", \"opencv\"))\n",
    "print(verify(\"img11.jpg\", \"img13.jpg\", \"OpenFace\", \"retinaface\"))\n",
    "print(verify(\"img11.jpg\", \"img13.jpg\", \"OpenFace\", \"mtcnn\"))\n",
    "print(verify(\"img11.jpg\", \"img13.jpg\", \"OpenFace\", \"ssd\"))\n",
    "done = datetime.now()\n",
    "elapsed = done - start\n",
    "print(\"Time taken : \", elapsed.total_seconds())"
   ]
  },
  {
   "cell_type": "code",
   "execution_count": null,
   "metadata": {
    "colab": {
     "base_uri": "https://localhost:8080/"
    },
    "id": "-HGh37n8ZWP0",
    "outputId": "ab98a923-eda1-46dc-a8c8-1ef75a813061"
   },
   "outputs": [],
   "source": [
    "print(\"================================ With DeepFace Model ===============================================\")\n",
    "start = datetime.now()\n",
    "print(verify(\"img11.jpg\", \"img13.jpg\", \"DeepFace\", \"opencv\"))\n",
    "print(verify(\"img11.jpg\", \"img13.jpg\", \"DeepFace\", \"retinaface\"))\n",
    "print(verify(\"img11.jpg\", \"img13.jpg\", \"DeepFace\", \"mtcnn\"))\n",
    "print(verify(\"img11.jpg\", \"img13.jpg\", \"DeepFace\", \"ssd\"))\n",
    "done = datetime.now()\n",
    "elapsed = done - start\n",
    "print(\"Time taken : \", elapsed.total_seconds())"
   ]
  },
  {
   "cell_type": "code",
   "execution_count": null,
   "metadata": {
    "colab": {
     "base_uri": "https://localhost:8080/"
    },
    "id": "4PQC-esvZ7kT",
    "outputId": "64efa4ff-8b54-4513-8166-3afecca79839"
   },
   "outputs": [],
   "source": [
    "print(\"================================ With DeepID Model ===============================================\")\n",
    "start = datetime.now()\n",
    "print(verify(\"img11.jpg\", \"img13.jpg\", \"DeepID\", \"opencv\"))\n",
    "print(verify(\"img11.jpg\", \"img13.jpg\", \"DeepID\", \"retinaface\"))\n",
    "print(verify(\"img11.jpg\", \"img13.jpg\", \"DeepID\", \"mtcnn\"))\n",
    "print(verify(\"img11.jpg\", \"img13.jpg\", \"DeepID\", \"ssd\"))\n",
    "done = datetime.now()\n",
    "elapsed = done - start\n",
    "print(\"Time taken : \", elapsed.total_seconds())"
   ]
  },
  {
   "cell_type": "code",
   "execution_count": null,
   "metadata": {
    "colab": {
     "base_uri": "https://localhost:8080/"
    },
    "id": "luhPo_djbCmS",
    "outputId": "96f48dc7-e645-46ca-f614-564e15987902"
   },
   "outputs": [],
   "source": [
    "print(\"================================ With ArcFace Model ===============================================\")\n",
    "start = datetime.now()\n",
    "print(verify(\"img11.jpg\", \"img13.jpg\", \"ArcFace\", \"opencv\"))\n",
    "print(verify(\"img11.jpg\", \"img13.jpg\", \"ArcFace\", \"retinaface\"))\n",
    "print(verify(\"img11.jpg\", \"img13.jpg\", \"ArcFace\", \"mtcnn\"))\n",
    "print(verify(\"img11.jpg\", \"img13.jpg\", \"ArcFace\", \"ssd\"))\n",
    "done = datetime.now()\n",
    "elapsed = done - start\n",
    "print(\"Time taken : \", elapsed.total_seconds())"
   ]
  },
  {
   "cell_type": "code",
   "execution_count": null,
   "metadata": {
    "id": "z1RtkQ7ZbQ2h"
   },
   "outputs": [],
   "source": []
  }
 ],
 "metadata": {
  "colab": {
   "collapsed_sections": [],
   "name": "faceverify.ipynb",
   "provenance": []
  },
  "kernelspec": {
   "display_name": "Python 3 (ipykernel)",
   "language": "python",
   "name": "python3"
  },
  "language_info": {
   "codemirror_mode": {
    "name": "ipython",
    "version": 3
   },
   "file_extension": ".py",
   "mimetype": "text/x-python",
   "name": "python",
   "nbconvert_exporter": "python",
   "pygments_lexer": "ipython3",
   "version": "3.9.7"
  }
 },
 "nbformat": 4,
 "nbformat_minor": 1
}
