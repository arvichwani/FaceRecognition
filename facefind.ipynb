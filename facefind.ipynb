{
 "cells": [
  {
   "cell_type": "code",
   "execution_count": null,
   "metadata": {
    "colab": {
     "base_uri": "https://localhost:8080/"
    },
    "id": "n5Yc5TCpQQqo",
    "outputId": "851eecb1-3d02-4292-ca62-61ad74630630"
   },
   "outputs": [],
   "source": [
    "pip install deepface"
   ]
  },
  {
   "cell_type": "code",
   "execution_count": null,
   "metadata": {
    "id": "1ZpcMNF3QcuB"
   },
   "outputs": [],
   "source": [
    "from deepface import DeepFace\n",
    "import cv2\n",
    "import matplotlib.pyplot as plt\n",
    "import time\n",
    "from datetime import date\n",
    "from datetime import datetime\n",
    "from IPython.display import Image, display\n"
   ]
  },
  {
   "cell_type": "code",
   "execution_count": null,
   "metadata": {
    "id": "l2VqFDRbV1VQ"
   },
   "outputs": [],
   "source": [
    "\n",
    "\n",
    "def find(img_path, db_path, model_name, detector_backend):\n",
    " img= cv2.imread(img_path)\n",
    " \n",
    "\n",
    "output = DeepFace.find(img_path, db_path, model_name, detector_backend=detector_backend)\n",
    "    return output\n",
    "\n",
    "image = \"img11.jpg\"\n",
    "images= [db_path=\"/dataset\"]\n",
    "models = [\"VGG-Face\", \"Facenet\", \"OpenFace\", \"DeepFace\", \"DeepID\", \"ArcFace\"]\n",
    "detector_backends =  [\"retinaface\", \"mtcnn\", \"opencv\", \"ssd\"]\n",
    "\n",
    "def form_matrix(image, imageset, models, detector_backends):\n",
    "    f = open(\"data.txt\", \"w\")\n",
    "    f.write(\"Main Image\\tImage to compare\\tmodel\\tdetector_backend\\tTime elapsed\\toutput\\n\")\n",
    "    for model in models:\n",
    "        for detector_backend in detector_backends:\n",
    "            for image_from_set in imageset:\n",
    "                print(\"processing ...... image  : \", image_from_set)\n",
    "                try:\n",
    "                    start = datetime.now()\n",
    "                    op = find(image,  image_from_set, model, detector_backend)\n",
    "                    done = datetime.now()\n",
    "                    elapsed = done - start\n",
    "                    f.write(image+\"\\t\"+image_from_set+\"\\t\"+model+\"\\t\"+detector_backend+\"\\t\"+str(elapsed)+\"\\t\"+str(op[\"verified\"])+\"\\n\")\n",
    "                except:\n",
    "                    print(\"error for image \", detector_backend)\n",
    "                    pass\n",
    "    f.close()\n",
    "    print(\"processing completed \")\n"
   ]
  },
  {
   "cell_type": "code",
   "execution_count": null,
   "metadata": {
    "id": "QjYjejqeWAqx"
   },
   "outputs": [],
   "source": [
    "\n",
    "print(\"================================ With VGG-Face Model ===============================================\")\n",
    "start = datetime.now()\n",
    "print(find(\"img11.jpg\", \"/dataset\", \"VGG-Face\", \"opencv\"))\n",
    "print(find(\"img11.jpg\", \"/dataset\", \"VGG-Face\", \"retinaface\"))\n",
    "print(find(\"img11.jpg\", \"/dataset\", \"VGG-Face\", \"mtcnn\"))\n",
    "print(find(\"img11.jpg\", \"/dataset\", \"VGG-Face\", \"ssd\"))\n",
    "done = datetime.now()\n",
    "elapsed = done - start\n",
    "print(\"Time taken : \", elapsed.total_seconds())\n",
    "\n"
   ]
  },
  {
   "cell_type": "code",
   "execution_count": null,
   "metadata": {
    "id": "CjnAUlOKWHa7"
   },
   "outputs": [],
   "source": [
    "\n",
    "print(\"================================ With Facenet Model ===============================================\")\n",
    "start = datetime.now()\n",
    "print(find(\"img11.jpg\", \"/dataset\", \"Facenet\", \"opencv\"))\n",
    "print(find(\"img11.jpg\", \"/dataset\", \"Facenet\", \"retinaface\"))\n",
    "print(find(\"img11.jpg\", \"/dataset\", \"Facenet\", \"mtcnn\"))\n",
    "print(find(\"img11.jpg\", \"/dataset\", \"Facenet\", \"ssd\"))\n",
    "done = datetime.now()\n",
    "elapsed = done - start\n",
    "print(\"Time taken : \", elapsed.total_seconds())\n"
   ]
  },
  {
   "cell_type": "code",
   "execution_count": null,
   "metadata": {
    "id": "NlDZCrGYWJhx"
   },
   "outputs": [],
   "source": [
    "\n",
    "print(\"================================ With OpenFace Model ===============================================\")\n",
    "start = datetime.now()\n",
    "print(find(\"img11.jpg\", \"/dataset\", \"OpenFace\", \"opencv\"))\n",
    "print(find(\"img11.jpg\", \"/dataset\", \"OpenFace\", \"retinaface\"))\n",
    "print(find(\"img11.jpg\", \"/dataset\", \"OpenFace\", \"mtcnn\"))\n",
    "print(find(\"img11.jpg\", \"/dataset\", \"OpenFace\", \"ssd\"))\n",
    "done = datetime.now()\n",
    "elapsed = done - start\n",
    "print(\"Time taken : \", elapsed.total_seconds())"
   ]
  },
  {
   "cell_type": "code",
   "execution_count": null,
   "metadata": {
    "id": "tPwQYGjIWC_h"
   },
   "outputs": [],
   "source": [
    "\n",
    "print(\"================================ With DeepFace Model ===============================================\")\n",
    "start = datetime.now()\n",
    "print(find(\"img11.jpg\", \"/dataset\", \"DeepFace\", \"opencv\"))\n",
    "print(find(\"img11.jpg\", \"/dataset\", \"DeepFace\", \"retinaface\"))\n",
    "print(find(\"img11.jpg\", \"/dataset\", \"DeepFace\", \"mtcnn\"))\n",
    "print(find(\"img11.jpg\", \"/dataset\", \"DeepFace\", \"ssd\"))\n",
    "done = datetime.now()\n",
    "elapsed = done - start\n",
    "print(\"Time taken : \", elapsed.total_seconds())\n"
   ]
  },
  {
   "cell_type": "code",
   "execution_count": null,
   "metadata": {
    "id": "kCtOvGooWNIj"
   },
   "outputs": [],
   "source": [
    "\n",
    "print(\"================================ With DeepID Model ===============================================\")\n",
    "start = datetime.now()\n",
    "print(find(\"img11.jpg\", \"/dataset\", \"DeepID\", \"opencv\"))\n",
    "print(find(\"img11.jpg\", \"/dataset\", \"DeepID\", \"retinaface\"))\n",
    "print(find(\"img11.jpg\", \"/dataset\", \"DeepID\", \"mtcnn\"))\n",
    "print(find(\"img11.jpg\", \"/dataset\", \"DeepID\", \"ssd\"))\n",
    "done = datetime.now()\n",
    "elapsed = done - start\n",
    "print(\"Time taken : \", elapsed.total_seconds())\n"
   ]
  },
  {
   "cell_type": "code",
   "execution_count": null,
   "metadata": {
    "id": "ds3HWQGDWR7I"
   },
   "outputs": [],
   "source": [
    "\n",
    "print(\"================================ With ArcFace Model ===============================================\")\n",
    "start = datetime.now()\n",
    "print(find(\"img11.jpg\", \"/dataset\", \"ArcFace\", \"opencv\"))\n",
    "print(find(\"img11.jpg\", \"/dataset\", \"ArcFace\", \"retinaface\"))\n",
    "print(find(\"img11.jpg\", \"/dataset\", \"ArcFace\", \"mtcnn\"))\n",
    "print(find(\"img11.jpg\", \"/dataset\", \"ArcFace\", \"ssd\"))\n",
    "done = datetime.now()\n",
    "elapsed = done - start\n",
    "print(\"Time taken : \", elapsed.total_seconds())"
   ]
  }
 ],
 "metadata": {
  "colab": {
   "collapsed_sections": [],
   "name": "facefind.ipynb",
   "provenance": []
  },
  "kernelspec": {
   "display_name": "Python 3 (ipykernel)",
   "language": "python",
   "name": "python3"
  },
  "language_info": {
   "codemirror_mode": {
    "name": "ipython",
    "version": 3
   },
   "file_extension": ".py",
   "mimetype": "text/x-python",
   "name": "python",
   "nbconvert_exporter": "python",
   "pygments_lexer": "ipython3",
   "version": "3.9.7"
  }
 },
 "nbformat": 4,
 "nbformat_minor": 1
}
